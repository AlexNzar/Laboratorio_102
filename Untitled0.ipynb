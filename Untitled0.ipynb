{
  "nbformat": 4,
  "nbformat_minor": 0,
  "metadata": {
    "colab": {
      "provenance": [],
      "authorship_tag": "ABX9TyOPdd3x5JaMCoAIJ+07TF6B",
      "include_colab_link": true
    },
    "kernelspec": {
      "name": "python3",
      "display_name": "Python 3"
    },
    "language_info": {
      "name": "python"
    }
  },
  "cells": [
    {
      "cell_type": "markdown",
      "metadata": {
        "id": "view-in-github",
        "colab_type": "text"
      },
      "source": [
        "<a href=\"https://colab.research.google.com/github/AlexNzar/Laboratorio_102/blob/main/Untitled0.ipynb\" target=\"_parent\"><img src=\"https://colab.research.google.com/assets/colab-badge.svg\" alt=\"Open In Colab\"/></a>"
      ]
    },
    {
      "cell_type": "code",
      "source": [
        "from google.colab import drive\n",
        "drive.mount('/content/drive')\n",
        "import pandas as pd\n",
        "\n",
        "path=\"/content/drive/MyDrive/Conjunto de datos/atenciones_abogadas_de_las_mujeres (4).csv\"\n",
        "\n",
        "\n",
        "df= pd.read_csv(path)\n",
        "\n",
        "registros= df.shape[0]\n",
        "print(registros)"
      ],
      "metadata": {
        "colab": {
          "base_uri": "https://localhost:8080/"
        },
        "id": "3xvEbdDG3KxE",
        "outputId": "554edb39-7dd1-4208-a013-77efbc4b9a2e"
      },
      "execution_count": 6,
      "outputs": [
        {
          "output_type": "stream",
          "name": "stdout",
          "text": [
            "Drive already mounted at /content/drive; to attempt to forcibly remount, call drive.mount(\"/content/drive\", force_remount=True).\n",
            "121995\n"
          ]
        },
        {
          "output_type": "stream",
          "name": "stderr",
          "text": [
            "<ipython-input-6-da0ac6fc45f0>:8: DtypeWarning: Columns (11,16,17,18) have mixed types. Specify dtype option on import or set low_memory=False.\n",
            "  df= pd.read_csv(path)\n"
          ]
        }
      ]
    },
    {
      "cell_type": "markdown",
      "source": [
        "# Verificar la lectura de archivo CSV\n"
      ],
      "metadata": {
        "id": "eKXb1GMM3ebX"
      }
    },
    {
      "cell_type": "code",
      "source": [
        "# Importar libreria pandas\n",
        "import pandas as pd\n",
        "\n",
        "# Obtener url de archivo csv\n",
        "path= \"/content/drive/MyDrive/Conjunto de datos/atenciones_abogadas_de_las_mujeres (4).csv\"\n",
        "\n",
        "# Leer el CSV\n",
        "df= pd.read_csv(path)\n",
        "# Obtener el número de registros\n",
        "registros= df.shape[0]\n",
        "\n",
        "# Imprimir el número de registros\n",
        "print(registros)\n"
      ],
      "metadata": {
        "colab": {
          "base_uri": "https://localhost:8080/"
        },
        "id": "t4lvC0qq3fRy",
        "outputId": "16ec5588-2be9-4050-faa4-f455d4779719"
      },
      "execution_count": 7,
      "outputs": [
        {
          "output_type": "stream",
          "name": "stdout",
          "text": [
            "121995\n"
          ]
        },
        {
          "output_type": "stream",
          "name": "stderr",
          "text": [
            "<ipython-input-7-23525b923f47>:8: DtypeWarning: Columns (11,16,17,18) have mixed types. Specify dtype option on import or set low_memory=False.\n",
            "  df= pd.read_csv(path)\n"
          ]
        }
      ]
    },
    {
      "cell_type": "markdown",
      "source": [
        "# Hacer uso de la función info()"
      ],
      "metadata": {
        "id": "jF9n-tUM6aQz"
      }
    },
    {
      "cell_type": "code",
      "source": [
        "# Importar libreria pandas\n",
        "import pandas as pd\n",
        "\n",
        "# Obtener url de archivo csv\n",
        "path=\"/content/drive/MyDrive/Conjunto de datos/atenciones_abogadas_de_las_mujeres (4).csv\"\n",
        "\n",
        "# Leer el CSV\n",
        "df= pd.read_csv(path)\n",
        "\n",
        "\n",
        "df.info()"
      ],
      "metadata": {
        "colab": {
          "base_uri": "https://localhost:8080/"
        },
        "id": "Mh_I44eP9Drn",
        "outputId": "04230202-1d4c-47a3-d818-af2913d1e728"
      },
      "execution_count": 8,
      "outputs": [
        {
          "output_type": "stream",
          "name": "stderr",
          "text": [
            "<ipython-input-8-b3ca59d6b061>:8: DtypeWarning: Columns (11,16,17,18) have mixed types. Specify dtype option on import or set low_memory=False.\n",
            "  df= pd.read_csv(path)\n"
          ]
        },
        {
          "output_type": "stream",
          "name": "stdout",
          "text": [
            "<class 'pandas.core.frame.DataFrame'>\n",
            "RangeIndex: 121995 entries, 0 to 121994\n",
            "Data columns (total 28 columns):\n",
            " #   Column                      Non-Null Count   Dtype  \n",
            "---  ------                      --------------   -----  \n",
            " 0   fecha                       121995 non-null  object \n",
            " 1   agencia                     120918 non-null  object \n",
            " 2   usuaria_sexo                121591 non-null  object \n",
            " 3   usuaria_nacionalidad        121641 non-null  object \n",
            " 4   usuaria_ent_fed_nacimiento  119967 non-null  object \n",
            " 5   usuaria_estado_civil        88051 non-null   object \n",
            " 6   usuaria_edad                120005 non-null  float64\n",
            " 7   usuaria_hijas               108979 non-null  float64\n",
            " 8   usuaria_hijos               102770 non-null  float64\n",
            " 9   usuaria_hijes               108646 non-null  float64\n",
            " 10  relacion_con_agresora       73933 non-null   object \n",
            " 11  agresora_ocupacion          42172 non-null   object \n",
            " 12  ci_iniciada                 99815 non-null   object \n",
            " 13  delito                      42187 non-null   object \n",
            " 14  representacion              116772 non-null  object \n",
            " 15  violencia_modalidad         107400 non-null  object \n",
            " 16  solicitud_medidas           40349 non-null   object \n",
            " 17  alto_riesgo                 52963 non-null   object \n",
            " 18  riesgo_feminicida           54000 non-null   object \n",
            " 19  vio_psicoemocional          121995 non-null  object \n",
            " 20  vio_fisica                  121995 non-null  object \n",
            " 21  vio_economica               121995 non-null  object \n",
            " 22  vio_patrimonial             121995 non-null  object \n",
            " 23  vio_sexual                  121995 non-null  object \n",
            " 24  vio_simbolica               121995 non-null  object \n",
            " 25  vio_obstetrica              121995 non-null  object \n",
            " 26  vio_reproductivos           121995 non-null  object \n",
            " 27  vio_feminicida              121995 non-null  object \n",
            "dtypes: float64(4), object(24)\n",
            "memory usage: 26.1+ MB\n"
          ]
        }
      ]
    },
    {
      "cell_type": "markdown",
      "source": [
        "# Hacer uso de la función tail()"
      ],
      "metadata": {
        "id": "zPCetHHX-Bml"
      }
    },
    {
      "cell_type": "code",
      "source": [
        "# Importar libreria pandas\n",
        "import pandas as pd\n",
        "\n",
        "# Obtener url de archivo csv\n",
        "path= \"/content/drive/MyDrive/Conjunto de datos\"\n",
        "\n",
        "# Leer el CSV\n",
        "df= pd.read_csv(path)\n",
        "\n",
        "\n",
        "df.tail(1)"
      ],
      "metadata": {
        "id": "ZycUlRsT-M2-"
      },
      "execution_count": null,
      "outputs": []
    },
    {
      "cell_type": "markdown",
      "source": [
        "# Obtener el rango de fechas"
      ],
      "metadata": {
        "id": "FbM4Kbfy_bia"
      }
    },
    {
      "cell_type": "code",
      "source": [
        "# Importar libreria de pandas\n",
        "import pandas as pd\n",
        "\n",
        "# Obtener url de archivo csv\n",
        "path= \"/content/drive/MyDrive/Conjunto de datos/atenciones_abogadas_de_las_mujeres (4).csv\"\n",
        "\n",
        "# Leer el CSV\n",
        "df=[\"fecha\"]=pd.to_datetime(df[\"fecha\"], formart= \"%d\"/%m/%y\")\n"
      ],
      "metadata": {
        "id": "o6ovjhDN_iah"
      },
      "execution_count": null,
      "outputs": []
    }
  ]
}